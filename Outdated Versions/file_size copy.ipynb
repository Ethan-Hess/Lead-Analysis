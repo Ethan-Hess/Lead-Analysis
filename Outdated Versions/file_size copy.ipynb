{
 "cells": [
  {
   "cell_type": "code",
   "execution_count": 1,
   "metadata": {},
   "outputs": [],
   "source": [
    "import pandas as pd\n",
    "from pathlib import Path\n",
    "import numpy as np\n",
    "import glob, os\n",
    "\n",
    "folder_path = 'D:\\VSCode\\Lead Analysis'\n",
    "csv_files = glob.glob(os.path.join(folder_path, '**', '*.csv'), recursive=True)\n"
   ]
  },
  {
   "cell_type": "code",
   "execution_count": null,
   "metadata": {},
   "outputs": [],
   "source": [
    "# Initialize the DataFrame\n",
    "leads_breakdown = pd.DataFrame(columns=['Filename', '# of rows', 'Column List'])\n",
    "\n",
    "# List of possible encodings to try\n",
    "encodings = ['utf-8', 'latin1', 'iso-8859-1', 'cp1252']\n",
    "\n",
    "print(len(csv_files))\n",
    "for file in csv_files:\n",
    "    # Get the filename\n",
    "    name = Path(file).name\n",
    "    \n",
    "    print(name)\n",
    "    row_count = 0\n",
    "    columns = None\n",
    "    \n",
    "    # Try different encodings\n",
    "    for encoding in encodings:\n",
    "        try:\n",
    "            columns_df = pd.read_csv(file, nrows=0, encoding=encoding)\n",
    "            columns = columns_df.columns\n",
    "            break  # If it succeeds, no need to try other encodings\n",
    "        except UnicodeDecodeError:\n",
    "            continue  # Try the next encoding\n",
    "\n",
    "    if columns is None:\n",
    "        print(f\"Failed to decode {name} with available encodings.\")\n",
    "        continue\n",
    "    \n",
    "    # Count rows in chunks\n",
    "    for chunk in pd.read_csv(file, chunksize=1000000, usecols=[0], on_bad_lines='skip', encoding=encoding):\n",
    "        row_count += len(chunk)\n",
    "    \n",
    "    # Create new row with information\n",
    "    column_list = ', '.join(columns)\n",
    "    new_row = pd.DataFrame([{'Filename': name, '# of rows': row_count, 'Column List': column_list}])\n",
    "    leads_breakdown = pd.concat([leads_breakdown, new_row], ignore_index=True)\n",
    "    print(f'\\nDone: {row_count}\\n')\n"
   ]
  },
  {
   "cell_type": "code",
   "execution_count": 29,
   "metadata": {},
   "outputs": [],
   "source": [
    "leads_breakdown.to_csv('Output\\lead_analysis.csv', index=False)\n",
    "leads_breakdown.to_csv('Output\\lead_plumb.csv', index=False)"
   ]
  },
  {
   "cell_type": "code",
   "execution_count": null,
   "metadata": {},
   "outputs": [],
   "source": [
    "# 2063 prev set                                                                                                                            Click execute above cells ^"
   ]
  }
 ],
 "metadata": {
  "kernelspec": {
   "display_name": "Python 3",
   "language": "python",
   "name": "python3"
  },
  "language_info": {
   "codemirror_mode": {
    "name": "ipython",
    "version": 3
   },
   "file_extension": ".py",
   "mimetype": "text/x-python",
   "name": "python",
   "nbconvert_exporter": "python",
   "pygments_lexer": "ipython3",
   "version": "3.11.6"
  }
 },
 "nbformat": 4,
 "nbformat_minor": 2
}
